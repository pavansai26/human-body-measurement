{
  "nbformat": 4,
  "nbformat_minor": 0,
  "metadata": {
    "kernelspec": {
      "display_name": "Python 3",
      "language": "python",
      "name": "python3"
    },
    "language_info": {
      "codemirror_mode": {
        "name": "ipython",
        "version": 3
      },
      "file_extension": ".py",
      "mimetype": "text/x-python",
      "name": "python",
      "nbconvert_exporter": "python",
      "pygments_lexer": "ipython3",
      "version": "3.7.3"
    },
    "colab": {
      "name": "object_measure.ipynb",
      "provenance": [],
      "include_colab_link": true
    }
  },
  "cells": [
    {
      "cell_type": "markdown",
      "metadata": {
        "id": "view-in-github",
        "colab_type": "text"
      },
      "source": [
        "<a href=\"https://colab.research.google.com/github/pavansai26/human-body-measurement/blob/master/object_measure.ipynb\" target=\"_parent\"><img src=\"https://colab.research.google.com/assets/colab-badge.svg\" alt=\"Open In Colab\"/></a>"
      ]
    },
    {
      "cell_type": "code",
      "metadata": {
        "id": "WocWXqotSQRn",
        "colab_type": "code",
        "colab": {}
      },
      "source": [
        "\n",
        "from scipy.spatial.distance import euclidean\n",
        "from imutils import perspective\n",
        "from imutils import contours\n",
        "import numpy as np\n",
        "import imutils\n",
        "import cv2"
      ],
      "execution_count": 0,
      "outputs": []
    },
    {
      "cell_type": "code",
      "metadata": {
        "id": "aNtI99uGSQSK",
        "colab_type": "code",
        "colab": {}
      },
      "source": [
        "def show_images(images):\n",
        "    for i, img in enumerate(images):\n",
        "        cv2.imshow(\"image_\" + str(i), img)\n",
        "    cv2.waitKey(0)\n",
        "    cv2.destroyAllWindows()"
      ],
      "execution_count": 0,
      "outputs": []
    },
    {
      "cell_type": "code",
      "metadata": {
        "id": "NA03tJCwSQSh",
        "colab_type": "code",
        "colab": {}
      },
      "source": [
        "img_path = \"C:\\\\Users\\\\Administrator\\\\Pictures\\\\pjt\\\\aman2.jpg\"\n",
        "image = cv2.imread(img_path)"
      ],
      "execution_count": 0,
      "outputs": []
    },
    {
      "cell_type": "code",
      "metadata": {
        "id": "LXJ3ptYrSQSz",
        "colab_type": "code",
        "colab": {}
      },
      "source": [
        "gray = cv2.cvtColor(image, cv2.COLOR_BGR2GRAY)\n",
        "blur = cv2.GaussianBlur(gray, (9, 9), 0)"
      ],
      "execution_count": 0,
      "outputs": []
    },
    {
      "cell_type": "code",
      "metadata": {
        "id": "cO-wdAVXSQTA",
        "colab_type": "code",
        "colab": {}
      },
      "source": [
        "edged = cv2.Canny(blur, 50, 100)\n",
        "edged = cv2.dilate(edged, None, iterations=1)\n",
        "edged = cv2.erode(edged, None, iterations=1)"
      ],
      "execution_count": 0,
      "outputs": []
    },
    {
      "cell_type": "code",
      "metadata": {
        "id": "6SAYGS0YSQTO",
        "colab_type": "code",
        "colab": {}
      },
      "source": [
        "cnts = cv2.findContours(edged.copy(), cv2.RETR_EXTERNAL, cv2.CHAIN_APPROX_SIMPLE)\n",
        "cnts = imutils.grab_contours(cnts)"
      ],
      "execution_count": 0,
      "outputs": []
    },
    {
      "cell_type": "code",
      "metadata": {
        "id": "xbKExAnXSQTi",
        "colab_type": "code",
        "colab": {}
      },
      "source": [
        "(cnts, _) = contours.sort_contours(cnts)"
      ],
      "execution_count": 0,
      "outputs": []
    },
    {
      "cell_type": "code",
      "metadata": {
        "id": "NM3Yh_zQSQTu",
        "colab_type": "code",
        "colab": {}
      },
      "source": [
        "cnts = [x for x in cnts if cv2.contourArea(x) > 100]"
      ],
      "execution_count": 0,
      "outputs": []
    },
    {
      "cell_type": "code",
      "metadata": {
        "id": "Le68ySQBSQT-",
        "colab_type": "code",
        "colab": {}
      },
      "source": [
        "ref_object = cnts[0]\n",
        "box = cv2.minAreaRect(ref_object)\n",
        "box = cv2.boxPoints(box)\n",
        "box = np.array(box, dtype=\"int\")\n",
        "box = perspective.order_points(box)\n",
        "(tl, tr, br, bl) = box\n",
        "dist_in_pixel = euclidean(tl, tr)\n",
        "dist_in_cm = 2\n",
        "pixel_per_cm = dist_in_pixel/dist_in_cm"
      ],
      "execution_count": 0,
      "outputs": []
    },
    {
      "cell_type": "code",
      "metadata": {
        "id": "DdgYT5nLSQUM",
        "colab_type": "code",
        "colab": {}
      },
      "source": [
        "for cnt in cnts:\n",
        "    box = cv2.minAreaRect(cnt)\n",
        "    box = cv2.boxPoints(box)\n",
        "    box = np.array(box, dtype=\"int\")\n",
        "    box = perspective.order_points(box)\n",
        "    (tl, tr, br, bl) = box\n",
        "    cv2.drawContours(image, [box.astype(\"int\")], -1, (0, 0, 255), 2)\n",
        "    mid_pt_horizontal = (tl[0] + int(abs(tr[0] - tl[0])/2), tl[1] + int(abs(tr[1] - tl[1])/2))\n",
        "    mid_pt_verticle = (tr[0] + int(abs(tr[0] - br[0])/2), tr[1] + int(abs(tr[1] - br[1])/2))\n",
        "    wid = euclidean(tl, tr)/pixel_per_cm\n",
        "    ht = euclidean(tr, br)/pixel_per_cm\n",
        "    cv2.putText(image, \"{:.1f}cm\".format(wid), (int(mid_pt_horizontal[0] - 15), int(mid_pt_horizontal[1] - 10)), \n",
        "        cv2.FONT_HERSHEY_SIMPLEX, 0.5, (255, 255, 0), 2)\n",
        "    cv2.putText(image, \"{:.1f}cm\".format(ht), (int(mid_pt_verticle[0] + 10), int(mid_pt_verticle[1])), \n",
        "        cv2.FONT_HERSHEY_SIMPLEX, 0.5, (255, 255, 0), 2)\n",
        "\n",
        "show_images([image])"
      ],
      "execution_count": 0,
      "outputs": []
    },
    {
      "cell_type": "code",
      "metadata": {
        "id": "evKnlDKXSQUY",
        "colab_type": "code",
        "colab": {}
      },
      "source": [
        ""
      ],
      "execution_count": 0,
      "outputs": []
    },
    {
      "cell_type": "code",
      "metadata": {
        "id": "KBlckTA0SQUg",
        "colab_type": "code",
        "colab": {}
      },
      "source": [
        ""
      ],
      "execution_count": 0,
      "outputs": []
    }
  ]
}